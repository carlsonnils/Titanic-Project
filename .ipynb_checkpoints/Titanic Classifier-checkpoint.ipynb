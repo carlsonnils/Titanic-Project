{
 "cells": [
  {
   "cell_type": "code",
   "execution_count": 1,
   "id": "e0d756e4",
   "metadata": {},
   "outputs": [],
   "source": [
    "import pandas as pd\n",
    "import numpy as np\n",
    "import matplotlib.pyplot as plt"
   ]
  },
  {
   "cell_type": "markdown",
   "id": "dc9d40df",
   "metadata": {},
   "source": [
    "**Separate on and off rent assets**"
   ]
  },
  {
   "cell_type": "code",
   "execution_count": 2,
   "id": "739615ba",
   "metadata": {
    "scrolled": true
   },
   "outputs": [
    {
     "name": "stdout",
     "output_type": "stream",
     "text": [
      "Requirement already satisfied: kaggle in c:\\users\\ncarlson\\anaconda3\\lib\\site-packages (1.5.12)\n",
      "Requirement already satisfied: python-slugify in c:\\users\\ncarlson\\anaconda3\\lib\\site-packages (from kaggle) (5.0.2)\n",
      "Requirement already satisfied: certifi in c:\\users\\ncarlson\\anaconda3\\lib\\site-packages (from kaggle) (2020.12.5)\n",
      "Requirement already satisfied: six>=1.10 in c:\\users\\ncarlson\\anaconda3\\lib\\site-packages (from kaggle) (1.15.0)\n",
      "Requirement already satisfied: tqdm in c:\\users\\ncarlson\\anaconda3\\lib\\site-packages (from kaggle) (4.59.0)\n",
      "Requirement already satisfied: requests in c:\\users\\ncarlson\\anaconda3\\lib\\site-packages (from kaggle) (2.25.1)\n",
      "Requirement already satisfied: urllib3 in c:\\users\\ncarlson\\anaconda3\\lib\\site-packages (from kaggle) (1.26.4)\n",
      "Requirement already satisfied: python-dateutil in c:\\users\\ncarlson\\anaconda3\\lib\\site-packages (from kaggle) (2.8.1)\n",
      "Requirement already satisfied: text-unidecode>=1.3 in c:\\users\\ncarlson\\anaconda3\\lib\\site-packages (from python-slugify->kaggle) (1.3)\n",
      "Requirement already satisfied: chardet<5,>=3.0.2 in c:\\users\\ncarlson\\anaconda3\\lib\\site-packages (from requests->kaggle) (4.0.0)\n",
      "Requirement already satisfied: idna<3,>=2.5 in c:\\users\\ncarlson\\anaconda3\\lib\\site-packages (from requests->kaggle) (2.10)\n"
     ]
    }
   ],
   "source": [
    "# ! pip install kaggle"
   ]
  },
  {
   "cell_type": "markdown",
   "id": "e4edfc90",
   "metadata": {},
   "source": [
    "# Dowload dataset"
   ]
  },
  {
   "cell_type": "code",
   "execution_count": 9,
   "id": "35062539",
   "metadata": {
    "scrolled": false
   },
   "outputs": [
    {
     "name": "stdout",
     "output_type": "stream",
     "text": [
      "Downloading Titanic.zip to .\n",
      "\n"
     ]
    },
    {
     "name": "stderr",
     "output_type": "stream",
     "text": [
      "\n",
      "  0%|          | 0.00/34.1k [00:00<?, ?B/s]\n",
      "100%|##########| 34.1k/34.1k [00:00<00:00, 1.22MB/s]\n"
     ]
    }
   ],
   "source": [
    "! kaggle competitions download -w Titanic"
   ]
  },
  {
   "cell_type": "code",
   "execution_count": 12,
   "id": "bdecfe96",
   "metadata": {},
   "outputs": [
    {
     "name": "stdout",
     "output_type": "stream",
     "text": [
      " Volume in drive C has no label.\n",
      " Volume Serial Number is DE1C-D871\n",
      "\n",
      " Directory of C:\\Users\\ncarlson\\Documents\\Titanic\n",
      "\n",
      "12/15/2021  09:17 AM    <DIR>          .\n",
      "12/15/2021  09:17 AM    <DIR>          ..\n",
      "12/15/2021  08:55 AM    <DIR>          .ipynb_checkpoints\n",
      "12/11/2019  02:17 AM             3,258 gender_submission.csv\n",
      "12/15/2021  08:49 AM                58 README.md\n",
      "12/11/2019  02:17 AM            28,629 test.csv\n",
      "12/15/2021  09:17 AM             3,609 Titanic Classifier.ipynb\n",
      "12/15/2021  09:10 AM            34,877 Titanic.zip\n",
      "12/11/2019  02:17 AM            61,194 train.csv\n",
      "               6 File(s)        131,625 bytes\n",
      "               3 Dir(s)  74,261,618,688 bytes free\n"
     ]
    }
   ],
   "source": [
    "! dir"
   ]
  },
  {
   "cell_type": "code",
   "execution_count": 17,
   "id": "7bb6cc08",
   "metadata": {},
   "outputs": [
    {
     "data": {
      "text/plain": [
       "418"
      ]
     },
     "execution_count": 17,
     "metadata": {},
     "output_type": "execute_result"
    }
   ],
   "source": [
    "gender_submission = pd.read_csv('gender_submission.csv')\n",
    "len(gender_submission)"
   ]
  },
  {
   "cell_type": "code",
   "execution_count": null,
   "id": "9be6cf0f",
   "metadata": {},
   "outputs": [],
   "source": []
  }
 ],
 "metadata": {
  "kernelspec": {
   "display_name": "Python 3",
   "language": "python",
   "name": "python3"
  },
  "language_info": {
   "codemirror_mode": {
    "name": "ipython",
    "version": 3
   },
   "file_extension": ".py",
   "mimetype": "text/x-python",
   "name": "python",
   "nbconvert_exporter": "python",
   "pygments_lexer": "ipython3",
   "version": "3.8.8"
  }
 },
 "nbformat": 4,
 "nbformat_minor": 5
}
